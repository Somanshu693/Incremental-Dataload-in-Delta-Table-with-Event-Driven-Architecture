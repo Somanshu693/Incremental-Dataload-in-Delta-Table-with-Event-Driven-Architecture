{
 "cells": [
  {
   "cell_type": "code",
   "execution_count": 0,
   "metadata": {
    "application/vnd.databricks.v1+cell": {
     "cellMetadata": {},
     "inputWidgets": {},
     "nuid": "2eb4cec6-fdc6-467f-b615-8a7629f9a9a9",
     "showTitle": false,
     "tableResultSettingsMap": {},
     "title": ""
    }
   },
   "outputs": [],
   "source": [
    "from delta.tables import DeltaTable\n",
    "\n",
    "stage_table_name = \"incremental_load.default.orders_stage\"\n",
    "target_table_name = \"incremental_load.default.orders_target\"\n",
    "\n",
    "# Read stage data\n",
    "stage_df = spark.read.table(stage_table_name)\n",
    "\n",
    "# Check if target table exists (use Spark catalog API, not _jsparkSession)\n",
    "if not spark.catalog.tableExists(target_table_name):\n",
    "    # Create target table with the same schema as stage\n",
    "    stage_df.write.format(\"delta\").saveAsTable(target_table_name)\n",
    "\n",
    "else:\n",
    "    # Load target table as DeltaTable\n",
    "    target_table = DeltaTable.forName(spark, target_table_name)\n",
    "\n",
    "    # Merge condition: match on tracking_num\n",
    "    merge_condition = \"stage.tracking_num = target.tracking_num\"\n",
    "\n",
    "    # Perform merge (delete old record, insert new one)\n",
    "    target_table.alias(\"target\") \\\n",
    "        .merge(stage_df.alias(\"stage\"), merge_condition) \\\n",
    "        .whenMatchedDelete() \\\n",
    "        .whenNotMatchedInsertAll() \\\n",
    "        .execute()\n"
   ]
  }
 ],
 "metadata": {
  "application/vnd.databricks.v1+notebook": {
   "computePreferences": null,
   "dashboards": [],
   "environmentMetadata": {
    "base_environment": "",
    "environment_version": "3"
   },
   "inputWidgetPreferences": null,
   "language": "python",
   "notebookMetadata": {
    "pythonIndentUnit": 4
   },
   "notebookName": "orders_target_load",
   "widgets": {}
  },
  "language_info": {
   "name": "python"
  }
 },
 "nbformat": 4,
 "nbformat_minor": 0
}
