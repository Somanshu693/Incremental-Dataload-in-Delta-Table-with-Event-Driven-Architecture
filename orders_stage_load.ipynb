{
 "cells": [
  {
   "cell_type": "code",
   "execution_count": 0,
   "metadata": {
    "application/vnd.databricks.v1+cell": {
     "cellMetadata": {},
     "inputWidgets": {},
     "nuid": "97c5a89d-e0e2-47fc-8854-935612485612",
     "showTitle": false,
     "tableResultSettingsMap": {},
     "title": ""
    }
   },
   "outputs": [],
   "source": [
    "from pyspark.sql.types import StructType, StructField, StringType, IntegerType\n",
    "from pyspark.sql.functions import to_date, to_timestamp\n",
    "\n",
    "# Paths and table\n",
    "source_dir = \"/Volumes/incremental_load/default/orders_data/source/\"\n",
    "target_dir = \"/Volumes/incremental_load/default/orders_data/archive/\"\n",
    "stage_table = \"incremental_load.default.orders_stage\"\n",
    "\n",
    "# Define schema\n",
    "schema = StructType([\n",
    "    StructField(\"order_num\", IntegerType(), True),\n",
    "    StructField(\"tracking_num\", StringType(), True),\n",
    "    StructField(\"pck_recieved_date\", StringType(), True),   # will be cast to Date\n",
    "    StructField(\"package_deliver_date\", StringType(), True),# will be cast to Date\n",
    "    StructField(\"status\", StringType(), True),\n",
    "    StructField(\"address\", StringType(), True),\n",
    "    StructField(\"last_update_timestamp\", StringType(), True) # will be cast to Timestamp\n",
    "])\n",
    "\n",
    "# Read CSV with schema\n",
    "df = spark.read.csv(source_dir, header=True, schema=schema)\n",
    "\n",
    "# Cast date/timestamp fields\n",
    "df = (df\n",
    "      .withColumn(\"pck_recieved_date\", to_date(\"pck_recieved_date\", \"dd-MM-yyyy\"))\n",
    "      .withColumn(\"package_deliver_date\", to_date(\"package_deliver_date\", \"dd-MM-yyyy\"))\n",
    "      .withColumn(\"last_update_timestamp\", to_timestamp(\"last_update_timestamp\", \"dd-MM-yyyy HH:mm\"))\n",
    ")\n",
    "\n",
    "# Write to Delta table\n",
    "df.write.format(\"delta\").mode(\"overwrite\").saveAsTable(stage_table)\n",
    "\n",
    "# Archive files after processing\n",
    "files = dbutils.fs.ls(source_dir)\n",
    "\n",
    "for file in files:\n",
    "    src_path = file.path\n",
    "    target_path = target_dir + src_path.split(\"/\")[-1]\n",
    "    dbutils.fs.mv(src_path, target_path)\n"
   ]
  }
 ],
 "metadata": {
  "application/vnd.databricks.v1+notebook": {
   "computePreferences": null,
   "dashboards": [],
   "environmentMetadata": {
    "base_environment": "",
    "environment_version": "3"
   },
   "inputWidgetPreferences": null,
   "language": "python",
   "notebookMetadata": {
    "pythonIndentUnit": 4
   },
   "notebookName": "orders_stage_load",
   "widgets": {}
  },
  "language_info": {
   "name": "python"
  }
 },
 "nbformat": 4,
 "nbformat_minor": 0
}
